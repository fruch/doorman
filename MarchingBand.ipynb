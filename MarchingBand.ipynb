{
 "cells": [
  {
   "cell_type": "markdown",
   "metadata": {
    "slideshow": {
     "slide_type": "slide"
    }
   },
   "source": [
    "# Marching Wagon of useful Modules\n",
    "\n",
    "\n",
    "#### Changing you life one package at a time...."
   ]
  },
  {
   "cell_type": "code",
   "execution_count": null,
   "metadata": {
    "collapsed": true
   },
   "outputs": [],
   "source": [
    "\n",
    "\n",
    "\n",
    "\n",
    "\n",
    "\n",
    "\n",
    "\n",
    "\n",
    "\n",
    "\n",
    "\n",
    "\n",
    "\n",
    "\n",
    "\n",
    "\n",
    "\n",
    "\n",
    "\n",
    "\n",
    "\n",
    "\n",
    "\n",
    "\n",
    "\n",
    "\n",
    "\n",
    "\n",
    "\n"
   ]
  },
  {
   "cell_type": "markdown",
   "metadata": {
    "slideshow": {
     "slide_type": "slide"
    }
   },
   "source": [
    "### Retrying your functions"
   ]
  },
  {
   "cell_type": "code",
   "execution_count": 4,
   "metadata": {
    "collapsed": true,
    "slideshow": {
     "slide_type": "fragment"
    }
   },
   "outputs": [
    {
     "name": "stdout",
     "output_type": "stream",
     "text": [
      "broken\n",
      "broken\n",
      "broken\n",
      "broken\n",
      "broken\n",
      "Awesome sauce!\n"
     ]
    }
   ],
   "source": [
    "# retrying\n",
    "# https://pypi.python.org/pypi/retrying\n",
    "\n",
    "import time\n",
    "import random\n",
    "from retrying import retry\n",
    "\n",
    "@retry(stop_max_delay=1000)\n",
    "def do_something_unreliable():\n",
    "    if random.randint(0, 10) > 2:\n",
    "        print \"broken\"\n",
    "        raise IOError(\"Broken sauce, everything is hosed!!!\")\n",
    "    else:\n",
    "        return \"Awesome sauce!\"\n",
    "\n",
    "print do_something_unreliable()\n"
   ]
  },
  {
   "cell_type": "markdown",
   "metadata": {
    "slideshow": {
     "slide_type": "slide"
    }
   },
   "source": [
    "### Waiting for socket and files/direcoties"
   ]
  },
  {
   "cell_type": "code",
   "execution_count": 5,
   "metadata": {
    "collapsed": false,
    "slideshow": {
     "slide_type": "fragment"
    }
   },
   "outputs": [
    {
     "name": "stdout",
     "output_type": "stream",
     "text": [
      "directory/file exist\n",
      "port is ready\n"
     ]
    }
   ],
   "source": [
    "# python-wait\n",
    "# https://github.com/shawnsi/python-wait\n",
    "\n",
    "import wait\n",
    "\n",
    "# wait for a file to be created\n",
    "if wait.log.exists('c:/Users/ifruchte/.ssh/id_rsa.pub', timeout=0.5):\n",
    "    print \"directory/file exist\"\n",
    "\n",
    "# wait until I can open a port to google\n",
    "if wait.tcp.open(80, host='www.google.com', timeout=5):\n",
    "    print \"port is ready\""
   ]
  },
  {
   "cell_type": "markdown",
   "metadata": {
    "slideshow": {
     "slide_type": "slide"
    }
   },
   "source": [
    "### dpath - Look/search into nested dicts"
   ]
  },
  {
   "cell_type": "code",
   "execution_count": 6,
   "metadata": {
    "collapsed": false,
    "slideshow": {
     "slide_type": "fragment"
    }
   },
   "outputs": [
    {
     "name": "stdout",
     "output_type": "stream",
     "text": [
      "a/b/43 = 30\n",
      "{'a': {'b': {'c': [], 'd': ['red', 'buggy', 'bumpers']}}}\n"
     ]
    }
   ],
   "source": [
    "# dpath\n",
    "# https://pypi.python.org/pypi/dpath\n",
    "\n",
    "import pprint\n",
    "import dpath.util\n",
    "\n",
    "x = { \"a\": { \"b\": { \"3\": 2,\n",
    "                    \"43\": 30,\n",
    "                    \"c\": [],\n",
    "                    \"d\": ['red', 'buggy', 'bumpers'],} } }\n",
    "\n",
    "print \"a/b/43 = %s\" % dpath.util.get(x, '/a/b/43')\n",
    "\n",
    "result = dpath.util.search(x, \"a/b/[cd]\")\n",
    "pprint.pprint(result)\n"
   ]
  },
  {
   "cell_type": "markdown",
   "metadata": {
    "slideshow": {
     "slide_type": "slide"
    }
   },
   "source": [
    "### deepdiff - compare dicts easily "
   ]
  },
  {
   "cell_type": "code",
   "execution_count": 7,
   "metadata": {
    "collapsed": false,
    "slideshow": {
     "slide_type": "fragment"
    }
   },
   "outputs": [
    {
     "name": "stdout",
     "output_type": "stream",
     "text": [
      "{ 'dictionary_item_added': { 'root[5]': 5, 'root[6]': 6},\n",
      "  'dictionary_item_removed': { 'root[4]': 4},\n",
      "  'values_changed': { \"root[7]['b']\": { 'new_value': 'world!!!',\n",
      "                                        'old_value': 'world'},\n",
      "                      \"root[7]['c']\": { 'diff': '--- \\n+++ \\n@@ -1,5 +1,3 @@\\n world!\\n-Goodbye!\\n-1\\n 2\\n End',\n",
      "                                        'new_value': 'world!\\n2\\nEnd',\n",
      "                                        'old_value': 'world!\\nGoodbye!\\n1\\n2\\nEnd'}}}\n",
      "--- \n",
      "+++ \n",
      "@@ -1,5 +1,3 @@\n",
      " world!\n",
      "-Goodbye!\n",
      "-1\n",
      " 2\n",
      " End\n"
     ]
    }
   ],
   "source": [
    "# deepdiff\n",
    "# http://deepdiff.readthedocs.io/en/latest/\n",
    "from pprint import pprint\n",
    "from deepdiff import DeepDiff\n",
    "\n",
    "t1 = {1:1, 3:3, 4:4, 7:{\"a\":\"hello\", \n",
    "                        \"b\":\"world\", \n",
    "                        \"c\": \"world!\\nGoodbye!\\n1\\n2\\nEnd\"}}\n",
    "t2 = {1:1, 3:3, 5:5, 6:6, 7:{\"a\":\"hello\", \n",
    "                             \"b\":\"world!!!\", \n",
    "                             \"c\": \"world!\\n2\\nEnd\"}}\n",
    "\n",
    "ddiff = DeepDiff(t1, t2, verbose_level=2)\n",
    "pprint(ddiff, indent=2)\n",
    "# if it's multi line, we have unified diff\n",
    "print ddiff['values_changed'][\"root[7]['c']\"]['diff']"
   ]
  },
  {
   "cell_type": "markdown",
   "metadata": {
    "slideshow": {
     "slide_type": "slide"
    }
   },
   "source": [
    "### tqdm - progressbars for the lazy"
   ]
  },
  {
   "cell_type": "code",
   "execution_count": 8,
   "metadata": {
    "collapsed": false,
    "slideshow": {
     "slide_type": "fragment"
    }
   },
   "outputs": [
    {
     "name": "stderr",
     "output_type": "stream",
     "text": [
      "100%|██████████| 15/15 [00:01<00:00,  9.61it/s]\n"
     ]
    },
    {
     "name": "stdout",
     "output_type": "stream",
     "text": [
      "\n"
     ]
    }
   ],
   "source": [
    "# tqdm\n",
    "# https://pypi.python.org/pypi/tqdm\n",
    "from time import sleep\n",
    "from tqdm import tqdm, trange\n",
    "\n",
    "for i in trange(15):\n",
    "    sleep(0.1)\n",
    "    \n",
    "from tqdm import tnrange, tqdm_notebook\n",
    "\n",
    "for i in tnrange(5, desc='1st loop'):\n",
    "    for j in tqdm_notebook(xrange(100), desc='2nd loop'):\n",
    "        sleep(0.01)\n"
   ]
  },
  {
   "cell_type": "markdown",
   "metadata": {
    "slideshow": {
     "slide_type": "slide"
    }
   },
   "source": [
    "#### Cilck - Building command line applications"
   ]
  },
  {
   "cell_type": "code",
   "execution_count": 9,
   "metadata": {
    "collapsed": false,
    "slideshow": {
     "slide_type": "fragment"
    }
   },
   "outputs": [
    {
     "name": "stdout",
     "output_type": "stream",
     "text": [
      "Usage: hello [OPTIONS]\n",
      "\n",
      "  Simple program that greets NAME for a total of COUNT times.\n",
      "\n",
      "Options:\n",
      "  --count INTEGER  Number of greetings.\n",
      "  --name TEXT      The person to greet.\n",
      "  --help           Show this message and exit.\n",
      "\n",
      "Hello Israel!\n",
      "Hello Israel!\n",
      "Hello Israel!\n",
      "Hello Israel!\n",
      "\n"
     ]
    }
   ],
   "source": [
    "# click\n",
    "# http://click.pocoo.org/\n",
    "\n",
    "import click\n",
    "\n",
    "@click.command()\n",
    "@click.option('--count', default=1, help='Number of greetings.')\n",
    "@click.option('--name', prompt='Your name',\n",
    "              help='The person to greet.')\n",
    "def hello(count, name):\n",
    "    \"\"\"Simple program that greets NAME for a total of COUNT times.\"\"\"\n",
    "    for x in range(count):\n",
    "        click.echo('Hello %s!' % name)\n",
    "\n",
    "        \n",
    "if __name__ == '__main__':\n",
    "    # some boiler plate for running in IPython/Jupyter\n",
    "    # http://click.pocoo.org/5/testing/#basic-testing\n",
    "    from click.testing import CliRunner\n",
    "        \n",
    "    result = CliRunner().invoke(hello, [\"--help\"])\n",
    "    print result.output\n",
    "    \n",
    "    result = CliRunner().invoke(hello, [\"--name\", \"Israel\", \"--count\", \"4\"])\n",
    "    print result.output\n",
    "\n",
    "    # this is how you usally do it\n",
    "    # hello()"
   ]
  },
  {
   "cell_type": "markdown",
   "metadata": {
    "slideshow": {
     "slide_type": "slide"
    }
   },
   "source": [
    "### construct - parse/build binary data"
   ]
  },
  {
   "cell_type": "code",
   "execution_count": 11,
   "metadata": {
    "collapsed": false,
    "slideshow": {
     "slide_type": "fragment"
    }
   },
   "outputs": [
    {
     "name": "stdout",
     "output_type": "stream",
     "text": [
      "Container:\n",
      "    source = 3509\n",
      "    destination = 80\n",
      "    seq = 1647329202\n",
      "    ack = 406252006\n",
      "    header_length = 20\n",
      "    flags = Container:\n",
      "        ns = False\n",
      "        cwr = False\n",
      "        ece = False\n",
      "        urg = False\n",
      "        ack = True\n",
      "        psh = True\n",
      "        rst = False\n",
      "        syn = False\n",
      "        fin = False\n",
      "    window = 17520\n",
      "    checksum = 51644\n",
      "    urgent = 0\n",
      "    options = ''\n",
      "0db5001662303fb21836e9e650184470c9bc0000\n"
     ]
    },
    {
     "ename": "AssertionError",
     "evalue": "",
     "output_type": "error",
     "traceback": [
      "\u001b[0;31m\u001b[0m",
      "\u001b[0;31mAssertionError\u001b[0mTraceback (most recent call last)",
      "\u001b[0;32m<ipython-input-11-846f942b3421>\u001b[0m in \u001b[0;36m<module>\u001b[0;34m()\u001b[0m\n\u001b[1;32m     47\u001b[0m     \u001b[0;32mprint\u001b[0m \u001b[0;34m(\u001b[0m\u001b[0mhexlify\u001b[0m\u001b[0;34m(\u001b[0m\u001b[0mbuilt\u001b[0m\u001b[0;34m)\u001b[0m\u001b[0;34m)\u001b[0m\u001b[0;34m\u001b[0m\u001b[0m\n\u001b[1;32m     48\u001b[0m \u001b[0;34m\u001b[0m\u001b[0m\n\u001b[0;32m---> 49\u001b[0;31m     \u001b[0;32massert\u001b[0m \u001b[0mcap\u001b[0m \u001b[0;34m==\u001b[0m \u001b[0mbuilt\u001b[0m\u001b[0;34m\u001b[0m\u001b[0m\n\u001b[0m\u001b[1;32m     50\u001b[0m \u001b[0;34m\u001b[0m\u001b[0m\n",
      "\u001b[0;31mAssertionError\u001b[0m: "
     ]
    }
   ],
   "source": [
    "# construct\n",
    "# http://construct.readthedocs.io/en/latest/\n",
    "\n",
    "from construct import *\n",
    "from binascii import unhexlify, hexlify\n",
    "import six\n",
    "\n",
    "\n",
    "tcp_header = Struct(\"tcp_header\",\n",
    "    UBInt16(\"source\"),\n",
    "    UBInt16(\"destination\"),\n",
    "    UBInt32(\"seq\"),\n",
    "    UBInt32(\"ack\"),\n",
    "    EmbeddedBitStruct(\n",
    "        ExprAdapter(Nibble(\"header_length\"), \n",
    "            encoder = lambda obj, ctx: obj / 4,\n",
    "            decoder = lambda obj, ctx: obj * 4,\n",
    "        ),\n",
    "        Padding(3),\n",
    "        Struct(\"flags\",\n",
    "            Flag(\"ns\"),\n",
    "            Flag(\"cwr\"),\n",
    "            Flag(\"ece\"),\n",
    "            Flag(\"urg\"),\n",
    "            Flag(\"ack\"),\n",
    "            Flag(\"psh\"),\n",
    "            Flag(\"rst\"),\n",
    "            Flag(\"syn\"),\n",
    "            Flag(\"fin\"),\n",
    "        ),\n",
    "    ),\n",
    "    UBInt16(\"window\"),\n",
    "    UBInt16(\"checksum\"),\n",
    "    UBInt16(\"urgent\"),\n",
    "    Field(\"options\", lambda ctx: ctx.header_length - 20),\n",
    ")\n",
    "\n",
    "if __name__ == \"__main__\":\n",
    "    cap = unhexlify(six.b(\"0db5005062303fb21836e9e650184470c9bc0000\"))\n",
    "    \n",
    "    obj = tcp_header.parse(cap)\n",
    "    print (obj)\n",
    "    \n",
    "    obj.destination = 22\n",
    "    \n",
    "    built = tcp_header.build(obj)\n",
    "    print (hexlify(built))\n",
    "    \n",
    "    assert cap == built\n",
    "\n"
   ]
  },
  {
   "cell_type": "markdown",
   "metadata": {},
   "source": [
    "### rpyc - seemless remote procudre "
   ]
  },
  {
   "cell_type": "code",
   "execution_count": null,
   "metadata": {
    "collapsed": false,
    "slideshow": {
     "slide_type": "slide"
    }
   },
   "outputs": [],
   "source": [
    "# rypc\n",
    "# https://rpyc.readthedocs.io/en/latest/\n",
    "\n",
    "# server side (let say it's ubuntu)\n",
    "# $ python rypc_classic.py\n",
    "# [SLAVE     INFO     14:22:27 tid=2332] server started on 0.0.0.0:18812\n",
    "\n",
    "# client code\n",
    "import rpyc\n",
    "conn = rpyc.classic.connect(\"rdkucs1.il.nds.com\") # our server\n",
    "\n",
    "remote_sys = conn.modules.sys # access the sys module on the server\n",
    "\n",
    "remote_os = conn.modules[\"os\"]\n",
    "\n",
    "remote_os.getcwd() # output: \"/home/users/ifruchte/\"\n",
    "\n"
   ]
  }
 ],
 "metadata": {
  "kernelspec": {
   "display_name": "Python 2",
   "language": "python",
   "name": "python2"
  },
  "language_info": {
   "codemirror_mode": {
    "name": "ipython",
    "version": 2
   },
   "file_extension": ".py",
   "mimetype": "text/x-python",
   "name": "python",
   "nbconvert_exporter": "python",
   "pygments_lexer": "ipython2",
   "version": "2.7.10"
  },
  "widgets": {
   "state": {
    "194977cb735b40da803562fad334ad74": {
     "views": [
      {
       "cell_index": 11
      }
     ]
    },
    "59e7894e3c9649baa5cda374be8069e6": {
     "views": [
      {
       "cell_index": 11
      }
     ]
    },
    "729c591b189d4bfeb74ba507d81b5822": {
     "views": [
      {
       "cell_index": 11
      }
     ]
    },
    "758bd16a4e194fd2a6632a4f8784ba37": {
     "views": [
      {
       "cell_index": 11
      }
     ]
    },
    "aa6ab546750e49a69e027d284e4b9c7c": {
     "views": [
      {
       "cell_index": 11
      }
     ]
    },
    "d330b720bfdb43618e16fba3eb71e359": {
     "views": [
      {
       "cell_index": 11
      }
     ]
    }
   },
   "version": "1.2.0"
  }
 },
 "nbformat": 4,
 "nbformat_minor": 1
}
